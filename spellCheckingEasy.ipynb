{
 "cells": [
  {
   "cell_type": "code",
   "execution_count": 17,
   "metadata": {},
   "outputs": [],
   "source": [
    "import json\n",
    "import re\n",
    "\n",
    "def extract_source_from_markdown(json_file_path):\n",
    "    with open(f'{json_file_path}.ipynb', encoding='utf8') as file:\n",
    "        # print(json_file_path)\n",
    "        data = json.load(file)\n",
    "    \n",
    "    markdown_sources = []\n",
    "    for obj in data[\"cells\"]:\n",
    "        if obj.get(\"cell_type\") == \"markdown\":\n",
    "            source = obj.get(\"source\")\n",
    "            source = ''.join(source)\n",
    "            source = source.replace(\"\\n\\n\", \"\\n\")\n",
    "            source = re.sub('<.*>', \"\", source)\n",
    "            source = re.sub('#+', \"#\", source)\n",
    "            if source:\n",
    "                markdown_sources.append(source)\n",
    "    \n",
    "    return markdown_sources\n",
    "\n",
    "if __name__ == \"__main__\":\n",
    "    file_paths = [\"DataScraper\", \"DataAnalysis_ML\"]\n",
    "    for file_path in file_paths:\n",
    "        markdown_sources = extract_source_from_markdown(file_path)\n",
    "        with open(f\"{file_path}_Markdowns.txt\", 'w') as f:\n",
    "            for source in markdown_sources:\n",
    "                f.write(source)   "
   ]
  }
 ],
 "metadata": {
  "kernelspec": {
   "display_name": "dataScienceIntro",
   "language": "python",
   "name": "python3"
  },
  "language_info": {
   "codemirror_mode": {
    "name": "ipython",
    "version": 3
   },
   "file_extension": ".py",
   "mimetype": "text/x-python",
   "name": "python",
   "nbconvert_exporter": "python",
   "pygments_lexer": "ipython3",
   "version": "3.10.4"
  },
  "orig_nbformat": 4
 },
 "nbformat": 4,
 "nbformat_minor": 2
}
