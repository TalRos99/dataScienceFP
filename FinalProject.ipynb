{
 "cells": [
  {
   "cell_type": "code",
   "execution_count": 2,
   "metadata": {},
   "outputs": [],
   "source": [
    "from selenium import webdriver\n",
    "from selenium.webdriver.common.by import By\n",
    "from selenium.webdriver.chrome.service import Service\n",
    "import pandas as pd \n",
    "\n",
    "import time"
   ]
  },
  {
   "cell_type": "code",
   "execution_count": 3,
   "metadata": {},
   "outputs": [],
   "source": [
    "def click_btn(clickable):\n",
    "    for btn in clickable:\n",
    "        try:\n",
    "            btn.click()\n",
    "        except:\n",
    "            pass"
   ]
  },
  {
   "cell_type": "code",
   "execution_count": 4,
   "metadata": {},
   "outputs": [],
   "source": [
    "# startpoint = 0\n",
    "# count = 1000\n",
    "# prefix_url = \"https://growdiaries.com/explore\"\n",
    "\n",
    "service = Service('./chromedriver.exe')\n",
    "op = webdriver.ChromeOptions()\n",
    "op.add_argument('--headless')\n",
    "# elements = []\n",
    "# url_df = pd.DataFrame(data={\"DiaryName\": \"\", \"Url\": \"\"})"
   ]
  },
  {
   "cell_type": "code",
   "execution_count": 5,
   "metadata": {},
   "outputs": [],
   "source": [
    "# driver = webdriver.Chrome(service=service, options=op)\n",
    "# while startpoint < 10000:\n",
    "#     query = f\"?action=loadpage&category=all&tags=harvested&start={startpoint}&count={count}&undefined=&ajax=true&ust=9c824c5a63187dd5f579502e26ac3594c3dbb8752fd954432a4d6e1b0ff2e41f8654e9f3\"\n",
    "#     final_url = prefix_url + query\n",
    "#     driver.get(final_url)\n",
    "#     elements= driver.find_elements(By.XPATH, \"//a[@class='name']\")\n",
    "#     startpoint += count\n",
    "#     for element in elements:\n",
    "#         temp_df = pd.DataFrame({\"DiaryName\": [element.text], \"Url\": [element.get_attribute('href')]})\n",
    "#         url_df = pd.concat([url_df, temp_df], ignore_index=True)\n",
    "# driver.quit()\n"
   ]
  },
  {
   "cell_type": "code",
   "execution_count": 6,
   "metadata": {},
   "outputs": [],
   "source": [
    "# url_df.to_csv(\"Diary Links.csv\", index=False)"
   ]
  },
  {
   "cell_type": "code",
   "execution_count": 7,
   "metadata": {},
   "outputs": [],
   "source": [
    "url_df = pd.read_csv(\"Diary Links.csv\")"
   ]
  },
  {
   "cell_type": "code",
   "execution_count": 14,
   "metadata": {},
   "outputs": [
    {
     "data": {
      "text/plain": [
       "'https://growdiaries.com/diaries/164151-grow-journal-by-jle-bwk'"
      ]
     },
     "execution_count": 14,
     "metadata": {},
     "output_type": "execute_result"
    }
   ],
   "source": [
    "currUrl = url_df['Url'].iloc[1]\n",
    "currUrl"
   ]
  },
  {
   "cell_type": "code",
   "execution_count": 9,
   "metadata": {},
   "outputs": [],
   "source": [
    "# driver.get(currUrl)\n",
    "# driver.maximize_window()\n",
    "# clickable = driver.find_elements(By.XPATH, \"//div[@class='btn_less']\")\n",
    "# click_btn(clickable)"
   ]
  },
  {
   "cell_type": "code",
   "execution_count": 10,
   "metadata": {},
   "outputs": [],
   "source": [
    "det_df = pd.DataFrame()"
   ]
  },
  {
   "cell_type": "code",
   "execution_count": 12,
   "metadata": {},
   "outputs": [],
   "source": [
    "driver = webdriver.Chrome(service=service, options=op)\n",
    "for j, url in enumerate(url_df[\"Url\"]):\n",
    "    driver.get(url)\n",
    "    driver.maximize_window()\n",
    "    clickable = driver.find_elements(By.XPATH, \"//div[@class='btn_less']\")\n",
    "    click_btn(clickable)\n",
    "    report_items = driver.find_elements(By.XPATH, \"//div[contains(@class,'report_items')]//*[@class='info']\")\n",
    "    outcome = driver.find_elements(By.XPATH, \"//div[contains(@class,'parameters_item')]\")\n",
    "    d = {\"diary_name\": url_df['DiaryName'].loc[j], \"strain\": \"\", \"strains_company\":\"\", \"light_watt\": \"\", \"nutrients\": \"\", \"indoor\": \"\", \"watering\": \"\", \"soil\": \"\", \"germination\": \"\", 'grow_techniques': \"\", \"grow_room_size\": \"\",\n",
    " \"weeks_to_harvest\": \"\", \"num_of_plants\": \"\", \"bud_dry_weight\": \"\", \"bud_wet_weight\": \"\"}\n",
    "    for i, item in enumerate(report_items):\n",
    "        text = item.text\n",
    "        texts = text.split(\"\\n\")\n",
    "        if i == 0:\n",
    "            d[\"strain\"] = texts[0]\n",
    "            d['strains_company'] = texts[1]\n",
    "        elif \"LED\" in text:\n",
    "            d['light_watt'] += texts[0] + \",\"\n",
    "        elif \"Nutrients\" in text:\n",
    "            d['nutrients'] += texts[0] +\",\"\n",
    "        elif \"Room Type\" in text:\n",
    "            d['indoor'] = True\n",
    "        elif \"Watering\" in text:\n",
    "            d['watering'] = texts[0]\n",
    "        elif \"Soil\" in text or \"Grow\" in text:\n",
    "            d['soil']+= text.replace(\"\\n\", \" \")+\",\"\n",
    "        elif \"Germination\" in text:\n",
    "            d['germination'] = texts[0]\n",
    "        elif text.find(\"Week\") > 0 and len(texts[0]) > 1:\n",
    "            d['grow_techniques'] += texts[0] + \",\"\n",
    "        elif text.find(\"Tent\") > 0:\n",
    "            d['grow_room_size'] = texts[0]\n",
    "    for i, details in enumerate(outcome):\n",
    "        text = details.text\n",
    "        texts = text.split(\"\\n\")\n",
    "        if i == 0:\n",
    "            d[\"weeks_to_harvest\"] = texts[1]\n",
    "        elif \"BUD WET WEIGHT\" in text:\n",
    "            d['bud_wet_weight']= texts[1]\n",
    "        elif \"BUD DRY WEIGHT\" in text:\n",
    "            d['bud_dry_weight']= texts[1]\n",
    "        elif \"NUMBER OF PLANTS HARVESTED\" in text:\n",
    "            d['num_of_plants'] = texts[1].split(\" \")[0]\n",
    "        elif \"TOTAL LIGHT POWER\" in text:\n",
    "            d['light_watt'] = texts[0]\n",
    "        elif \"GROW ROOM\" in text:\n",
    "            d['grow_room_size']= texts[1]\n",
    "    # temp_df = pd.DataFrame(d)\n",
    "    det_df = pd.concat([det_df,pd.DataFrame(d, index=[0])], ignore_index=True)\n",
    "    if j == 1:\n",
    "        break\n",
    "driver.quit()\n"
   ]
  },
  {
   "cell_type": "code",
   "execution_count": 13,
   "metadata": {},
   "outputs": [
    {
     "data": {
      "text/html": [
       "<div>\n",
       "<style scoped>\n",
       "    .dataframe tbody tr th:only-of-type {\n",
       "        vertical-align: middle;\n",
       "    }\n",
       "\n",
       "    .dataframe tbody tr th {\n",
       "        vertical-align: top;\n",
       "    }\n",
       "\n",
       "    .dataframe thead th {\n",
       "        text-align: right;\n",
       "    }\n",
       "</style>\n",
       "<table border=\"1\" class=\"dataframe\">\n",
       "  <thead>\n",
       "    <tr style=\"text-align: right;\">\n",
       "      <th></th>\n",
       "      <th>diary_name</th>\n",
       "      <th>strain</th>\n",
       "      <th>strains_company</th>\n",
       "      <th>light_watt</th>\n",
       "      <th>nutrients</th>\n",
       "      <th>indoor</th>\n",
       "      <th>watering</th>\n",
       "      <th>soil</th>\n",
       "      <th>germination</th>\n",
       "      <th>grow_techniques</th>\n",
       "      <th>grow_room_size</th>\n",
       "      <th>weeks_to_harvest</th>\n",
       "      <th>num_of_plants</th>\n",
       "      <th>bud_dry_weight</th>\n",
       "      <th>bud_wet_weight</th>\n",
       "    </tr>\n",
       "  </thead>\n",
       "  <tbody>\n",
       "    <tr>\n",
       "      <th>0</th>\n",
       "      <td>#CannapediaGrowersCup4th</td>\n",
       "      <td>Runtz</td>\n",
       "      <td>Zamnesia Seeds</td>\n",
       "      <td>LIGHT</td>\n",
       "      <td>Advanced Nutrients,General Hydroponics (GHE),</td>\n",
       "      <td>True</td>\n",
       "      <td>Manual</td>\n",
       "      <td>Soil Grow Medium,Coco Coir Grow Medium,Perlite...</td>\n",
       "      <td>Paper Towel</td>\n",
       "      <td>Transplant,Transplantation,Defoliation,Repelle...</td>\n",
       "      <td>1</td>\n",
       "      <td>18</td>\n",
       "      <td>1</td>\n",
       "      <td>120</td>\n",
       "      <td>1130</td>\n",
       "    </tr>\n",
       "    <tr>\n",
       "      <th>1</th>\n",
       "      <td>Green crack</td>\n",
       "      <td>Green Crack</td>\n",
       "      <td>Crop King Seeds</td>\n",
       "      <td>LIGHT</td>\n",
       "      <td>Advanced Nutrients,Fox Farm,</td>\n",
       "      <td>True</td>\n",
       "      <td>Manual</td>\n",
       "      <td>Soil Grow Medium,</td>\n",
       "      <td>Peat Pellet</td>\n",
       "      <td>LST,</td>\n",
       "      <td></td>\n",
       "      <td>10</td>\n",
       "      <td></td>\n",
       "      <td></td>\n",
       "      <td></td>\n",
       "    </tr>\n",
       "  </tbody>\n",
       "</table>\n",
       "</div>"
      ],
      "text/plain": [
       "                 diary_name       strain  strains_company light_watt   \n",
       "0  #CannapediaGrowersCup4th        Runtz   Zamnesia Seeds      LIGHT  \\\n",
       "1               Green crack  Green Crack  Crop King Seeds      LIGHT   \n",
       "\n",
       "                                       nutrients  indoor watering   \n",
       "0  Advanced Nutrients,General Hydroponics (GHE),    True   Manual  \\\n",
       "1                   Advanced Nutrients,Fox Farm,    True   Manual   \n",
       "\n",
       "                                                soil  germination   \n",
       "0  Soil Grow Medium,Coco Coir Grow Medium,Perlite...  Paper Towel  \\\n",
       "1                                  Soil Grow Medium,  Peat Pellet   \n",
       "\n",
       "                                     grow_techniques grow_room_size   \n",
       "0  Transplant,Transplantation,Defoliation,Repelle...              1  \\\n",
       "1                                               LST,                  \n",
       "\n",
       "  weeks_to_harvest num_of_plants bud_dry_weight bud_wet_weight  \n",
       "0               18             1            120           1130  \n",
       "1               10                                              "
      ]
     },
     "execution_count": 13,
     "metadata": {},
     "output_type": "execute_result"
    }
   ],
   "source": [
    "det_df"
   ]
  },
  {
   "cell_type": "code",
   "execution_count": null,
   "metadata": {},
   "outputs": [],
   "source": []
  },
  {
   "attachments": {},
   "cell_type": "markdown",
   "metadata": {},
   "source": [
    "GROW TECHNIQUES: Low Stress Training, High Stress Training, Sea of Green (SoG), Screen of Green (ScrOG), FIMing, Main-Lining, 12-12 From Seed, Defoliation, TOPPING\n",
    "Room size in square meters, light in watt. bud weight in grams both dry and wet."
   ]
  },
  {
   "cell_type": "code",
   "execution_count": null,
   "metadata": {},
   "outputs": [],
   "source": [
    "\n",
    "for i, pname in enumerate(report_items):\n",
    "    text = pname.text\n",
    "    texts = text.split(\"\\n\")\n",
    "    if i == 0:\n",
    "        d[\"strain\"] = texts[0]\n",
    "        d['strains_company'] = texts[1]\n",
    "    elif \"LED\" in text:\n",
    "        d['light_watt'].append(texts[0])\n",
    "    elif \"Nutrients\" in text:\n",
    "        d['nutrients'].append(texts[0])\n",
    "    elif \"Room Type\" in text:\n",
    "        d['indoor'] = True\n",
    "    elif \"Watering\" in text:\n",
    "        d['watering'] = texts[0]\n",
    "    elif \"Soil\" in text or \"Grow\" in text:\n",
    "        d['soil'].append(text.replace(\"\\n\", \" \"))\n",
    "    elif \"Germination\" in text:\n",
    "        d['germination'] = texts[0]\n",
    "    elif text.find(\"Week\") > 0 and len(texts[0]) > 1:\n",
    "        d['grow_techniques'].append(texts[0])\n",
    "    elif text.find(\"Tent\") > 0:\n",
    "        d['grow_room_size'] = texts[0]\n"
   ]
  },
  {
   "cell_type": "code",
   "execution_count": null,
   "metadata": {},
   "outputs": [
    {
     "data": {
      "text/plain": [
       "{'strain': 'Runtz',\n",
       " 'strains_company': 'Zamnesia Seeds',\n",
       " 'light_watt': 'LIGHT',\n",
       " 'nutrients': ['Advanced Nutrients', 'General Hydroponics (GHE)'],\n",
       " 'indoor': True,\n",
       " 'watering': 'Manual',\n",
       " 'soil': ['Soil Grow Medium', 'Coco Coir Grow Medium', 'Perlite Grow Medium'],\n",
       " 'germination': 'Paper Towel',\n",
       " 'grow_techniques': ['Transplant',\n",
       "  'Transplantation',\n",
       "  'Defoliation',\n",
       "  'Repellent',\n",
       "  'Topping',\n",
       "  'LST'],\n",
       " 'grow_room_size': '1',\n",
       " 'weeks_to_harvest': '18',\n",
       " 'num_of_plants': '1',\n",
       " 'bud_dry_weight': '120',\n",
       " 'bud_wet_weight': '1130'}"
      ]
     },
     "execution_count": 38,
     "metadata": {},
     "output_type": "execute_result"
    }
   ],
   "source": [
    "for i, pname in enumerate(outcome):\n",
    "    text = pname.text\n",
    "    texts = text.split(\"\\n\")\n",
    "    if i == 0:\n",
    "        d[\"weeks_to_harvest\"] = texts[1]\n",
    "    elif \"BUD WET WEIGHT\" in text:\n",
    "        d['bud_wet_weight']= texts[1]\n",
    "    elif \"BUD DRY WEIGHT\" in text:\n",
    "        d['bud_dry_weight']= texts[1]\n",
    "    elif \"NUMBER OF PLANTS HARVESTED\" in text:\n",
    "        d['num_of_plants'] = texts[1].split(\" \")[0]\n",
    "    elif \"TOTAL LIGHT POWER\" in text:\n",
    "        d['light_watt'] = texts[0]\n",
    "    elif \"GROW ROOM\" in text:\n",
    "        d['grow_room_size']= texts[1]\n",
    "d"
   ]
  }
 ],
 "metadata": {
  "kernelspec": {
   "display_name": "dataScienceIntro",
   "language": "python",
   "name": "python3"
  },
  "language_info": {
   "codemirror_mode": {
    "name": "ipython",
    "version": 3
   },
   "file_extension": ".py",
   "mimetype": "text/x-python",
   "name": "python",
   "nbconvert_exporter": "python",
   "pygments_lexer": "ipython3",
   "version": "3.10.4"
  },
  "orig_nbformat": 4
 },
 "nbformat": 4,
 "nbformat_minor": 2
}
